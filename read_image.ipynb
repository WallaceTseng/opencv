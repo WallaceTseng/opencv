{
 "cells": [
  {
   "cell_type": "code",
   "execution_count": 1,
   "metadata": {
    "scrolled": true
   },
   "outputs": [
    {
     "name": "stdout",
     "output_type": "stream",
     "text": [
      "OpenCv version: {} 4.5.3\n"
     ]
    }
   ],
   "source": [
    "import cv2\n",
    "import urllib\n",
    "import numpy as np\n",
    "from urllib.request import urlopen\n",
    "\n",
    "#check version\n",
    "print(\"OpenCv version: {}\", cv2.__version__)"
   ]
  },
  {
   "cell_type": "code",
   "execution_count": 2,
   "metadata": {},
   "outputs": [],
   "source": [
    "#read from url\n",
    "req = urlopen(\"https://www.imatest.com/wp-content/uploads/2011/11/Old_ISO-12233_160H.png\")\n",
    "\n",
    "#convert image format to uint8\n",
    "arr = np.asarray(bytearray(req.read()), dtype=np.uint8)\n",
    "img0 = cv2.imdecode(arr, -1) # 'Load it as it is'"
   ]
  },
  {
   "cell_type": "code",
   "execution_count": 3,
   "metadata": {},
   "outputs": [],
   "source": [
    "#read from file\n",
    "img1 = cv2.imread(\"D:/Research/opencv/image/iso12233.jpg\")"
   ]
  },
  {
   "cell_type": "code",
   "execution_count": 4,
   "metadata": {},
   "outputs": [],
   "source": [
    "#show image \n",
    "cv2.imshow('image from url', img0)\n",
    "cv2.imshow('image from file', img1)"
   ]
  },
  {
   "cell_type": "code",
   "execution_count": 5,
   "metadata": {},
   "outputs": [],
   "source": [
    "#wait keydown and then close all windows\n",
    "cv2.waitKey()\n",
    "cv2.destroyAllWindows()"
   ]
  },
  {
   "cell_type": "code",
   "execution_count": null,
   "metadata": {},
   "outputs": [],
   "source": []
  },
  {
   "cell_type": "code",
   "execution_count": null,
   "metadata": {},
   "outputs": [],
   "source": []
  }
 ],
 "metadata": {
  "kernelspec": {
   "display_name": "Python 3",
   "language": "python",
   "name": "python3"
  },
  "language_info": {
   "codemirror_mode": {
    "name": "ipython",
    "version": 3
   },
   "file_extension": ".py",
   "mimetype": "text/x-python",
   "name": "python",
   "nbconvert_exporter": "python",
   "pygments_lexer": "ipython3",
   "version": "3.7.0"
  }
 },
 "nbformat": 4,
 "nbformat_minor": 2
}
