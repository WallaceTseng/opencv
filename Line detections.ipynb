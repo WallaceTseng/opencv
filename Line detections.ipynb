{
 "cells": [
  {
   "cell_type": "code",
   "execution_count": 27,
   "metadata": {
    "scrolled": false
   },
   "outputs": [
    {
     "name": "stdout",
     "output_type": "stream",
     "text": [
      "OpenCv version:  4.5.3\n"
     ]
    }
   ],
   "source": [
    "import cv2\n",
    "import urllib\n",
    "import numpy as np\n",
    "#from urllib.request import urlopen\n",
    "#import random\n",
    "from random import randrange, uniform\n",
    "\n",
    "#check version\n",
    "print(\"OpenCv version: \", cv2.__version__)"
   ]
  },
  {
   "cell_type": "code",
   "execution_count": 28,
   "metadata": {},
   "outputs": [],
   "source": [
    "#bi_thd = 30\n",
    "#bi_max = 255\n",
    "\n",
    "# Parameters for Hough line detection\n",
    "rho = 1\n",
    "theta = np.pi/180\n",
    "threshold = 80\n",
    "min_line_length = 10\n",
    "max_line_gap = 100\n",
    "\n",
    "#img_path = \"D:/Research/opencv/image/dora/b.jpg\"\n",
    "img_path = \"D:/Research/opencv/image/dora/stitch_test.jpg\""
   ]
  },
  {
   "cell_type": "code",
   "execution_count": 29,
   "metadata": {},
   "outputs": [],
   "source": [
    "def displayResizedImg(name, img, factor):\n",
    "    imgDisplay = cv2.resize(img, None, fx=factor, fy=factor, interpolation=cv2.INTER_AREA)\n",
    "    cv2.imshow(name, imgDisplay)"
   ]
  },
  {
   "cell_type": "code",
   "execution_count": 30,
   "metadata": {},
   "outputs": [],
   "source": [
    "#read from file\n",
    "img = cv2.imread(img_path)"
   ]
  },
  {
   "cell_type": "code",
   "execution_count": 31,
   "metadata": {},
   "outputs": [],
   "source": [
    "#Convert image to gray\n",
    "gray = cv2.cvtColor(img, cv2.COLOR_BGR2GRAY)\n",
    "#ret, binary = cv2.threshold(gray, bi_thd, bi_max, cv2.THRESH_BINARY)\n",
    "#binary = cv2.inRange(gray, 90, 120)\n",
    "\n",
    "# Apply an adaptive threshold\n",
    "# ADAPTIVE_THRESH_MEAN_C\n",
    "# ADAPTIVE_THRESH_GAUSSIAN_C\n",
    "# \n",
    "#binary = cv2.adaptiveThreshold(gray,255,cv2.ADAPTIVE_THRESH_GAUSSIAN_C, cv2.THRESH_BINARY,11,2)\n",
    "binary = cv2.inRange(gray, 90, 180)"
   ]
  },
  {
   "cell_type": "code",
   "execution_count": 32,
   "metadata": {},
   "outputs": [],
   "source": [
    "#find and draw contours\n",
    "#contours, hierarchy = cv2.findContours(binary, cv2.RETR_EXTERNAL, cv2.CHAIN_APPROX_NONE)\n",
    "#img_con = cv2.drawContours(img.copy(),contours,-1,(0,255,255),1)"
   ]
  },
  {
   "cell_type": "code",
   "execution_count": 33,
   "metadata": {},
   "outputs": [],
   "source": [
    "#for i in contours[0]:\n",
    "#    color = np.array( [uniform(0, 256), uniform(0,256), uniform(0,256)], dtype = \"uint16\")\n",
    "#    img_con = cv2.drawContours( img.copy(), contours, int(i), color, 2, cv2.LINE_8, hierarchy, 0 )"
   ]
  },
  {
   "cell_type": "markdown",
   "metadata": {},
   "source": []
  },
  {
   "cell_type": "code",
   "execution_count": 34,
   "metadata": {},
   "outputs": [],
   "source": [
    "#Crop image\n",
    "showCrosshair = False\n",
    "fromCenter = False\n",
    "# Select ROI\n",
    "rect = cv2.selectROI(\"select roi\", gray, showCrosshair, fromCenter)\n",
    "x, y, w, h = rect\n",
    "\n",
    "# Crop image\n",
    "imCropBin = gray[y : y+h, x:x+w]\n",
    "imCrop = img[y : y+h, x:x+w]"
   ]
  },
  {
   "cell_type": "code",
   "execution_count": 35,
   "metadata": {},
   "outputs": [],
   "source": [
    "#Detect line\n",
    "fld = cv2.ximgproc.createFastLineDetector(10, 1.414, 90.0, 180.0, 3, False)\n",
    "lines = fld.detect(imCropBin)\n",
    "drawn_img = fld.drawSegments(imCropBin,lines)"
   ]
  },
  {
   "cell_type": "code",
   "execution_count": 36,
   "metadata": {},
   "outputs": [],
   "source": [
    "#Detect line Canny\n",
    "imCanny = cv2.blur(imCropBin, (3,3))\n",
    "edges = cv2.Canny(imCanny, 90.0, 180.0)"
   ]
  },
  {
   "cell_type": "code",
   "execution_count": null,
   "metadata": {},
   "outputs": [
    {
     "name": "stdout",
     "output_type": "stream",
     "text": [
      "[40, 45, 48, 53, 105, 113, 118, 165, 170, 173, 178, 230, 235, 235, 238, 243]\n"
     ]
    }
   ],
   "source": [
    "# detect Gradient\n",
    "imCropBin = cv2.blur(imCropBin, (3,3))\n",
    "#sobelxy = cv2.Sobel(imCropBin, cv2.CV_32F, 1, 1, 3)\n",
    "#kernel = np.ones((3,3), np.uint8)\n",
    "kernel = cv2.getStructuringElement(cv2.MORPH_RECT, (3,3))\n",
    "#open_result = cv2.morphologyEx(sobelxy, cv2.MORPH_OPEN, kernel, iterations=1)\n",
    "gradient = cv2.morphologyEx(imCropBin, cv2.MORPH_GRADIENT, kernel, iterations=2)\n",
    "#sobelxy = cv2.dilate(sobelxy, kernel, iterations = 1)\n",
    "#sobelxy = cv2.dilate(sobelxy, kernel, iterations = 1)\n",
    "#sobelxy = cv2.erode(sobelxy, kernel, iterations = 1)\n",
    "#sobelxy = cv2.erode(sobelxy, kernel, iterations = 1)\n",
    "#sobelxy = cv2.resize(sobelxy, None, fx=5, fy=5, interpolation=cv2.INTER_AREA)\n",
    "#cv2.imshow('Sobel Edge', sobelxy)\n",
    "#cv2.imshow('Open', open_result)\n",
    "#gradient = cv2.adaptiveThreshold(gradient,255,cv2.ADAPTIVE_THRESH_GAUSSIAN_C, cv2.THRESH_BINARY,11,2)\n",
    "#displayResizedImg('Gradient', gradient, 5)\n",
    "\n",
    "gradient = cv2.resize(gradient, None, fx=5, fy=5, interpolation=cv2.INTER_AREA)\n",
    "#cv2.imshow('Gradient', gradient)\n",
    "\n",
    "gradient = cv2.morphologyEx(gradient, cv2.MORPH_OPEN, kernel, iterations=5)\n",
    "gradient = cv2.erode(gradient, kernel, iterations = 4)\n",
    "ret, gradient = cv2.threshold(gradient, bi_thd, bi_max, cv2.THRESH_BINARY)\n",
    "gradient = cv2.erode(gradient, kernel, iterations = 7)\n",
    "\n",
    "edges = cv2.Canny(gradient, bi_thd, 255.0)\n",
    "\n",
    "\n",
    "lines = cv2.HoughLinesP(edges,rho,theta,threshold,np.array([]),min_line_length, max_line_gap)\n",
    "imCropA = cv2.resize(imCrop, None, fx=5, fy=5, interpolation=cv2.INTER_AREA)\n",
    "\n",
    "y_list = []\n",
    "font = cv2.FONT_HERSHEY_SIMPLEX\n",
    "for line in lines:\n",
    "        x1,y1,x2,y2 = line.reshape(4)\n",
    "        color = int(y1)\n",
    "        cv2.line(imCropA, (x1,y1), (x2,y2), (0,0,color), 3)\n",
    "        x = int((x1+x2)/2)\n",
    "        cv2.putText(imCropA,'{}'.format(y1), (x, y1+10), font, 1, (255, 255, 255), 2, cv2.LINE_AA)\n",
    "        y_list.append(y1)\n",
    "\n",
    "#Group data\n",
    "y_list = sorted(y_list)\n",
    "print(y_list)\n",
    "\n",
    "\n",
    "#gradient = cv2.dilate(gradient, kernel, iterations = 1)\n",
    "#gradient = cv2.resize(gradient, None, fx=5, fy=5, interpolation=cv2.INTER_AREA)\n",
    "\n",
    "#cv2.imshow('Processed', gradient)\n",
    "cv2.imshow('imCrop', imCropA)\n",
    "cv2.imshow('edge', edges)"
   ]
  },
  {
   "cell_type": "code",
   "execution_count": null,
   "metadata": {},
   "outputs": [],
   "source": []
  },
  {
   "cell_type": "code",
   "execution_count": null,
   "metadata": {},
   "outputs": [],
   "source": [
    "#show image \n",
    "#drawn_img = cv2.resize(drawn_img, None, fx=5, fy=5, interpolation=cv2.INTER_AREA)\n",
    "#edges = cv2.resize(edges, None, fx=5, fy=5, interpolation=cv2.INTER_AREA)\n",
    "\n",
    "cv2.imshow('Original image', img)\n",
    "#cv2.imshow('Selected ROI', drawn_img)\n",
    "displayResizedImg('ROI', imCropBin, 5)\n",
    "#imCropBin = cv2.resize(imCropBin, None, fx=5, fy=5, interpolation=cv2.INTER_AREA)\n",
    "#cv2.imshow('ROI', imCropBin)\n",
    "\n",
    "#cv2.imshow('Canny Edge', edges)\n",
    "#cv2.imshow('roi', imCrop)"
   ]
  },
  {
   "cell_type": "code",
   "execution_count": null,
   "metadata": {},
   "outputs": [],
   "source": [
    "#wait keydown and then close all windows\n",
    "cv2.waitKey()\n",
    "cv2.destroyAllWindows()"
   ]
  },
  {
   "cell_type": "code",
   "execution_count": null,
   "metadata": {},
   "outputs": [],
   "source": []
  },
  {
   "cell_type": "code",
   "execution_count": null,
   "metadata": {},
   "outputs": [],
   "source": []
  },
  {
   "cell_type": "code",
   "execution_count": null,
   "metadata": {},
   "outputs": [],
   "source": []
  }
 ],
 "metadata": {
  "kernelspec": {
   "display_name": "Python 3",
   "language": "python",
   "name": "python3"
  },
  "language_info": {
   "codemirror_mode": {
    "name": "ipython",
    "version": 3
   },
   "file_extension": ".py",
   "mimetype": "text/x-python",
   "name": "python",
   "nbconvert_exporter": "python",
   "pygments_lexer": "ipython3",
   "version": "3.8.8"
  }
 },
 "nbformat": 4,
 "nbformat_minor": 2
}
