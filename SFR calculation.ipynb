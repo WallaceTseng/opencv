{
 "cells": [
  {
   "cell_type": "code",
   "execution_count": 1,
   "id": "179c5d12",
   "metadata": {},
   "outputs": [
    {
     "name": "stdout",
     "output_type": "stream",
     "text": [
      "OpenCv version: {} 4.5.3\n"
     ]
    }
   ],
   "source": [
    "import cv2\n",
    "import numpy as np\n",
    "import matplotlib.pyplot as plt\n",
    "\n",
    "#check version\n",
    "print(\"OpenCv version: {}\", cv2.__version__)"
   ]
  },
  {
   "cell_type": "code",
   "execution_count": 2,
   "id": "588b9723",
   "metadata": {},
   "outputs": [],
   "source": [
    "# Parameters for Hough line detection\n",
    "rho = 1.0\n",
    "theta = np.pi/180\n",
    "threshold = 50\n",
    "min_line_length = 20\n",
    "max_line_gap = 100\n",
    "\n",
    "# Parameters for binarize threshold and Canny Line detection\n",
    "bi_thd = 20\n",
    "bi_max = 255\n",
    "\n",
    "nor_color = (0, 255, 255)\n",
    "warn_color = (0,0,255)\n",
    "font = cv2.FONT_HERSHEY_SIMPLEX\n",
    "color = (0, 255, 255)"
   ]
  },
  {
   "cell_type": "code",
   "execution_count": 3,
   "id": "7829dcc8",
   "metadata": {},
   "outputs": [],
   "source": [
    "def displayResizedImg(name, img, factor):\n",
    "    imgDis = cv2.resize(img, None, fx=factor, fy=factor, interpolation=cv2.INTER_AREA)\n",
    "    cv2.imshow(name, imgDis)\n",
    "    return imgDis"
   ]
  },
  {
   "cell_type": "code",
   "execution_count": 4,
   "id": "3b09e9ab",
   "metadata": {},
   "outputs": [],
   "source": [
    "#read from file\n",
    "img = cv2.imread(\"D:/Research/opencv/image/slant_edge.png\")\n",
    "img = cv2.imread(\"D:/Research/opencv/image/wallpaper.png\")\n",
    "#img = cv2.imread(\"D:/Research/opencv/image/ISO12233.jpg\")\n",
    "#Convert image to gray\n",
    "gray = cv2.cvtColor(img, cv2.COLOR_BGR2GRAY)"
   ]
  },
  {
   "cell_type": "code",
   "execution_count": 5,
   "id": "334e8af2",
   "metadata": {},
   "outputs": [],
   "source": [
    "#Select and Crop image\n",
    "showCrosshair = False\n",
    "fromCenter = False\n",
    "# Select ROI\n",
    "#x,y,w,h = (343,226,75,75)\n",
    "rect = cv2.selectROI(\"select roi\", gray, showCrosshair, fromCenter)\n",
    "x, y, w, h = rect\n",
    "#print(x,y,w,h)\n",
    "\n",
    "# Crop image\n",
    "imgGrayCrop = gray[y : y+h, x:x+w]\n",
    "imCrop = img[y : y+h, x:x+w]"
   ]
  },
  {
   "cell_type": "code",
   "execution_count": 6,
   "id": "29e40b90",
   "metadata": {},
   "outputs": [],
   "source": [
    "# Edge detection\n",
    "#find gradient\n",
    "imgGrayCrop = cv2.blur(imgGrayCrop, (3,3))\n",
    "kernel = cv2.getStructuringElement(cv2.MORPH_RECT, (3,3))\n",
    "gradient = cv2.morphologyEx(imgGrayCrop, cv2.MORPH_GRADIENT, kernel, iterations=3)\n",
    "\n",
    "# to get better lines\n",
    "#gradient = cv2.morphologyEx(gradient, cv2.MORPH_OPEN, kernel, iterations=3)\n",
    "gradient = cv2.erode(gradient, kernel, iterations = 2)\n",
    "ret, gradient = cv2.threshold(gradient, bi_thd, bi_max, cv2.THRESH_BINARY)\n",
    "#gradient = cv2.erode(gradient, kernel, iterations = 1)\n",
    "\n",
    "#mask = np.zeros(gradient.shape, dtype=\"uint8\")\n",
    "contours, hierarchy = cv2.findContours(gradient,cv2.RETR_EXTERNAL,cv2.CHAIN_APPROX_SIMPLE)\n",
    "(x, y, w, h) = cv2.boundingRect(contours[0])\n",
    "#cv2.rectangle(mask, (x, y), (x + w, y + h), (255), cv2.FILLED)\n",
    "#masked = cv2.bitwise_and(imgGrayCrop, imgGrayCrop, mask=mask)\n",
    "masked2 = imgGrayCrop[y:y+h, x-10:x+w+10]\n",
    "\n",
    "\n",
    "#lines = cv2.HoughLinesP(edges,rho,theta,threshold,np.array([]),min_line_length, max_line_gap)\n",
    "## draw result on image\n",
    "#for line in lines:\n",
    "#    x1,y1,x2,y2 = line.reshape(4)\n",
    "#    slope = (y2-y1)/(x2-x1)\n",
    "#    print(x1,y1,x2,y2,slope)\n",
    "#    cv2.line(imCrop, (x1,y1), (x2,y2), warn_color, 1)\n",
    "#    cv2.putText(imCrop,'{}'.format(x1), (x1, y1), font, 1, color, 1, cv2.LINE_AA)\n"
   ]
  },
  {
   "cell_type": "code",
   "execution_count": 7,
   "id": "abd7ec87",
   "metadata": {},
   "outputs": [],
   "source": [
    "#ESF\n",
    "num_rows, num_cols = masked2.shape\n",
    "#print(num_rows, num_cols)\n",
    "\n",
    "#Centroid edge profile\n",
    "cep_h = np.zeros(num_cols, dtype=\"uint8\")\n",
    "temp = 0\n",
    "for col in range(0, num_cols):\n",
    "    for row in range(0,num_rows):\n",
    "        temp += masked2[row,col]\n",
    "    cep_h[col] = temp/num_rows\n",
    "    temp = 0\n",
    "    \n",
    "cep_v = np.zeros(num_rows, dtype=\"uint8\")\n",
    "for row in range(0,num_rows):\n",
    "    for col in range(0, num_cols):\n",
    "        temp += masked2[row,col]\n",
    "    cep_v[row] = temp/num_cols\n",
    "    temp = 0\n",
    "\n",
    "\n",
    "\n",
    "#plt.show()\n",
    "#print(masked2)\n",
    "#print(masked2.shape)"
   ]
  },
  {
   "cell_type": "code",
   "execution_count": 8,
   "id": "7a36d079",
   "metadata": {},
   "outputs": [],
   "source": [
    "#LSF (1st derivative of ESF) Same as a convolutin with a [1,0,-1] matrix\n",
    "lsf_h = np.gradient(cep_h,1)\n",
    "lsf_v = np.gradient(cep_v,1)\n"
   ]
  },
  {
   "cell_type": "code",
   "execution_count": 9,
   "id": "27e35889",
   "metadata": {},
   "outputs": [],
   "source": [
    "#SFR (Absolute value of Fourier transform of the LSF)\n",
    "sfr_h = np.absolute(np.fft.fft(lsf_h))\n",
    "sfr_v = np.absolute(np.fft.fft(lsf_v))\n",
    "\n"
   ]
  },
  {
   "cell_type": "code",
   "execution_count": 12,
   "id": "670d6446",
   "metadata": {
    "scrolled": false
   },
   "outputs": [
    {
     "name": "stdout",
     "output_type": "stream",
     "text": [
      "MTF H: 96.89230850863024\n",
      "MTF H: 87.96528112548945\n",
      "MTF H: 74.34808324625544\n",
      "MTF H: 57.735026918962575\n",
      "MTF H: 40.13410827391269\n"
     ]
    },
    {
     "data": {
      "image/png": "[encoded data removed]",
      "text/plain": [
       "<Figure size 432x288 with 8 Axes>"
      ]
     },
     "metadata": {
      "needs_background": "light"
     },
     "output_type": "display_data"
    }
   ],
   "source": [
    "#Data visualization\n",
    "fig, ax = plt.subplots(4,2)\n",
    "fig.suptitle('Slant edge MTF')\n",
    "ax[0,0].set_title('horizontal')\n",
    "ax[0,1].set_title('vertical')\n",
    "ax[0,0].plot(np.transpose(masked2), '-', color='blue');\n",
    "ax[0,1].plot(masked2, '-', color='blue');\n",
    "ax[1,0].plot(cep_h, '-', color='blue');\n",
    "ax[1,1].plot(cep_v, '-', color='blue');\n",
    "#fig.tight_layout()\n",
    "\n",
    "#Data visualization\n",
    "#fig.suptitle('LSF')\n",
    "ax[2,0].plot(lsf_h, '-', color='blue');\n",
    "ax[2,1].plot(lsf_v, '-', color='blue');\n",
    "\n",
    "#fig.tight_layout()\n",
    "\n",
    "#Data visualization\n",
    "#fig, ax = plt.subplots(1,2)\n",
    "#fig.suptitle('SFR')\n",
    "\n",
    "for i in range(1, 6):\n",
    "    print(\"MTF H:\", sfr_h[i]/255*100)\n",
    "    #print(\"MTF V:\", sfr_v[i])\n",
    "\n",
    "\n",
    "ax[3,0].plot(sfr_h[:10], '-', color='blue');\n",
    "ax[3,1].plot(sfr_v[:10], '-', color='blue');\n",
    "fig.tight_layout()"
   ]
  },
  {
   "cell_type": "code",
   "execution_count": 11,
   "id": "9762036f",
   "metadata": {},
   "outputs": [],
   "source": [
    "## displayResizedImg('gray', gray, 0.8)\n",
    "#displayResizedImg('ori', imCrop, 4)\n",
    "##displayResizedImg('edge', edges, 2)\n",
    "#displayResizedImg('gradient', gradient, 2)\n",
    "#displayResizedImg('mask', mask, 4)\n",
    "#displayResizedImg('masked', masked, 4)\n",
    "#displayResizedImg('masked2', masked2, 4)\n",
    "cv2.waitKey()\n",
    "cv2.destroyAllWindows()"
   ]
  },
  {
   "cell_type": "code",
   "execution_count": null,
   "id": "b10c3b55",
   "metadata": {},
   "outputs": [],
   "source": []
  },
  {
   "cell_type": "code",
   "execution_count": null,
   "id": "7fd1921d",
   "metadata": {},
   "outputs": [],
   "source": []
  }
 ],
 "metadata": {
  "kernelspec": {
   "display_name": "Python 3",
   "language": "python",
   "name": "python3"
  },
  "language_info": {
   "codemirror_mode": {
    "name": "ipython",
    "version": 3
   },
   "file_extension": ".py",
   "mimetype": "text/x-python",
   "name": "python",
   "nbconvert_exporter": "python",
   "pygments_lexer": "ipython3",
   "version": "3.8.8"
  }
 },
 "nbformat": 4,
 "nbformat_minor": 5
}
