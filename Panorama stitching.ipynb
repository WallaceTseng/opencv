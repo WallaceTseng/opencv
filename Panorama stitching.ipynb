{
 "cells": [
  {
   "cell_type": "code",
   "execution_count": 6,
   "id": "3649c6ae",
   "metadata": {},
   "outputs": [],
   "source": [
    "from __future__ import print_function\n",
    "import cv2\n",
    "import numpy as np"
   ]
  },
  {
   "cell_type": "code",
   "execution_count": 7,
   "id": "929f42d2",
   "metadata": {},
   "outputs": [],
   "source": [
    "#最多自動取幾個keypoints\n",
    "MAX_FEATURES = 500\n",
    "#取得的keypoints都有分數，設定程式僅取最佳的前15%\n",
    "GOOD_MATCH_PERCENT = 0.15"
   ]
  },
  {
   "cell_type": "code",
   "execution_count": 8,
   "id": "ce05176d",
   "metadata": {},
   "outputs": [],
   "source": [
    "#進行兩張相片的拼接\n",
    "def alignImages(im1, im2):\n",
    "    # 轉為灰階\n",
    "    im1Gray = cv2.cvtColor(im1, cv2.COLOR_BGR2GRAY)\n",
    "    im2Gray = cv2.cvtColor(im2, cv2.COLOR_BGR2GRAY)\n",
    "\n",
    "    # 偵測 ORB keypoints及取得descriptors.\n",
    "    orb = cv2.ORB_create(MAX_FEATURES)\n",
    "    keypoints1, descriptors1 = orb.detectAndCompute(im1Gray, None)\n",
    "    keypoints2, descriptors2 = orb.detectAndCompute(im2Gray, None)\n",
    "\n",
    "    im1Keypoints = np.array([])\n",
    "    # cv2.drawKeypoints的參數有五個：原始圖片、keypoints、輸出的結果圖片、繪製顏色、繪圖功能設定。\n",
    "    im1Keypoints = cv2.drawKeypoints(image1, keypoints1, im1Keypoints, color=(0,0,255),flags=0)\n",
    "    print(\"Saving Image with Keypoints\"); \n",
    "    cv2.imwrite(\"keypoints.jpg\", im1Keypoints)\n",
    "\n",
    "    # 特徵匹配.\n",
    "    matcher = cv2.DescriptorMatcher_create(cv2.DESCRIPTOR_MATCHER_BRUTEFORCE_HAMMING)\n",
    "    print(descriptors1, descriptors2)\n",
    "    matches = matcher.match(descriptors1, descriptors2, None)\n",
    "\n",
    "    # 每個匹配到的特徵帶有分數，由小至大排序\n",
    "    matches.sort(key=lambda x: x.distance, reverse=False)\n",
    "\n",
    "    # 僅保留前15%分數較高的匹配特徵\n",
    "    numGoodMatches = int(len(matches) * GOOD_MATCH_PERCENT)\n",
    "    matches = matches[:numGoodMatches]\n",
    "\n",
    "    # 繪出兩張相片匹配的特徵點\n",
    "    imMatches = cv2.drawMatches(im1, keypoints1, im2, keypoints2, matches, None)\n",
    "    print(\"Saving Image with matches\"); \n",
    "    cv2.imwrite(\"matches.jpg\", imMatches)\n",
    "\n",
    "    # 分別將兩張相片匹配的特徵點匯出\n",
    "    points1 = np.zeros((len(matches), 2), dtype=np.float32)\n",
    "    points2 = np.zeros((len(matches), 2), dtype=np.float32)\n",
    "\n",
    "    for i, match in enumerate(matches):\n",
    "        points1[i, :] = keypoints1[match.queryIdx].pt\n",
    "        points2[i, :] = keypoints2[match.trainIdx].pt\n",
    "\n",
    "    # 找到homography。\n",
    "    h, mask = cv2.findHomography(points2, points1, cv2.RANSAC)\n",
    "\n",
    "    # 套用homography\n",
    "    im1Height, im1Width, channels = im1.shape\n",
    "    im2Height, im2Width, channels = im2.shape\n",
    "\n",
    "    im2Aligned = cv2.warpPerspective(im2, h, (im2Width + im1Width, im2Height))\n",
    "\n",
    "    # 將image1圖像置換到對齊好的圖片中\n",
    "    stitchedImage = np.copy(im2Aligned)\n",
    "    stitchedImage[0:im1Height,0:im1Width] = image1\n",
    "\n",
    "    return im2Aligned, stitchedImage"
   ]
  },
  {
   "cell_type": "code",
   "execution_count": 9,
   "id": "4b4d4e01",
   "metadata": {},
   "outputs": [
    {
     "name": "stdout",
     "output_type": "stream",
     "text": [
      "Reading First image :  D:\\Research\\opencv\\image\\cam4_undistored.jpg\n",
      "Reading Second Image :  D:\\Research\\opencv\\image\\cam3_undistored.jpg\n",
      "Aligning images ...\n",
      "Saving Image with Keypoints\n",
      "[[249  90 255 ... 176 110 121]\n",
      " [ 72 185 189 ...  80 135 107]\n",
      " [  1 143 247 ... 219 224 173]\n",
      " ...\n",
      " [238 176 246 ... 213 199  83]\n",
      " [  5  82 191 ... 243  65 161]\n",
      " [248  32 146 ... 128  66  34]] [[ 41  33 122 ...  14  91 142]\n",
      " [173 100 196 ... 255 202 132]\n",
      " [253 255 232 ... 151 222  93]\n",
      " ...\n",
      " [198 248 149 ...  85   7 247]\n",
      " [148  84 255 ... 249 245 115]\n",
      " [  3 188 135 ...  68  35 156]]\n",
      "Saving Image with matches\n",
      "Saving aligned image\n",
      "Saving stitched image\n"
     ]
    }
   ],
   "source": [
    "imageFile1 = \"D:\\Research\\opencv\\image\\cam4_undistored.jpg\"\n",
    "print(\"Reading First image : \", imageFile1)\n",
    "image1 = cv2.imread(imageFile1, cv2.IMREAD_COLOR)\n",
    "cv2.imshow(\"First image \",image1)\n",
    "cv2.waitKey(0)\n",
    "\n",
    "imageFile2 = \"D:\\Research\\opencv\\image\\cam3_undistored.jpg\"\n",
    "print(\"Reading Second Image : \", imageFile2);  \n",
    "image2 = cv2.imread(imageFile2, cv2.IMREAD_COLOR)\n",
    "\n",
    "print(\"Aligning images ...\")\n",
    "im2Aligned, stitchedImage = alignImages(image1, image2)\n",
    "print(\"Saving aligned image\"); \n",
    "cv2.imwrite(\"aligned-image.jpg\", im2Aligned)\n",
    "cv2.imshow(\"aligned image \", im2Aligned)\n",
    "\n",
    "print(\"Saving stitched image\"); \n",
    "cv2.imwrite(\"stitched-image.jpg\", stitchedImage)\n",
    "cv2.imshow(\"stitched image \", stitchedImage)\n",
    "cv2.waitKey(0)\n",
    "cv2.destroyAllWindows()"
   ]
  },
  {
   "cell_type": "code",
   "execution_count": null,
   "id": "1a89b77f",
   "metadata": {},
   "outputs": [],
   "source": []
  },
  {
   "cell_type": "code",
   "execution_count": null,
   "id": "ee15ff01",
   "metadata": {},
   "outputs": [],
   "source": []
  },
  {
   "cell_type": "code",
   "execution_count": null,
   "id": "88ff905d",
   "metadata": {},
   "outputs": [],
   "source": []
  },
  {
   "cell_type": "code",
   "execution_count": null,
   "id": "9d44225a",
   "metadata": {},
   "outputs": [],
   "source": []
  },
  {
   "cell_type": "code",
   "execution_count": null,
   "id": "c0670108",
   "metadata": {},
   "outputs": [],
   "source": []
  },
  {
   "cell_type": "code",
   "execution_count": null,
   "id": "5f9086fd",
   "metadata": {},
   "outputs": [],
   "source": []
  },
  {
   "cell_type": "code",
   "execution_count": null,
   "id": "a8064c46",
   "metadata": {},
   "outputs": [],
   "source": []
  },
  {
   "cell_type": "code",
   "execution_count": null,
   "id": "c23db93c",
   "metadata": {},
   "outputs": [],
   "source": []
  },
  {
   "cell_type": "code",
   "execution_count": 2,
   "id": "a3bc9eb5",
   "metadata": {},
   "outputs": [],
   "source": [
    "image_paths=[\"D:\\Research\\opencv\\image\\cam3.jpg\", \"D:\\Research\\opencv\\image\\cam4.jpg\"]\n",
    "# initialized a list of images\n",
    "imgs = []\n",
    "\n",
    "for i in range(len(image_paths)):\n",
    "    imgs.append(cv2.imread(image_paths[i]))\n",
    "    imgs[i]=cv2.resize(imgs[i],(0,0),fx=0.4,fy=0.4)\n",
    "\n",
    "# showing the original pictures\n",
    "#cv2.imshow('1',imgs[0])\n",
    "#cv2.imshow('2',imgs[1])\n",
    "#cv2.imshow('3',imgs[2])\n",
    "#cv2.imshow('4',imgs[3])\n",
    "#cv2.waitKey()\n",
    "#cv2.destroyAllWindows()"
   ]
  },
  {
   "cell_type": "code",
   "execution_count": 3,
   "id": "7e79a302",
   "metadata": {},
   "outputs": [
    {
     "name": "stdout",
     "output_type": "stream",
     "text": [
      "stitching ain't successful\n"
     ]
    }
   ],
   "source": [
    "\n",
    "stitchy=cv2.Stitcher.create()\n",
    "(dummy,output)=stitchy.stitch(imgs)\n",
    " \n",
    "if dummy != cv2.STITCHER_OK:\n",
    "  # checking if the stitching procedure is successful\n",
    "  # .stitch() function returns a true value if stitching is\n",
    "  # done successfully\n",
    "    print(\"stitching ain't successful\")\n",
    "else:\n",
    "    print('Your Panorama is ready!!!')\n",
    "    cv2.imshow('final result',output)\n",
    "    cv2.waitKey(0)\n",
    "    cv2.destroyAllWindows()\n"
   ]
  },
  {
   "cell_type": "markdown",
   "id": "ede91207",
   "metadata": {},
   "source": []
  }
 ],
 "metadata": {
  "kernelspec": {
   "display_name": "Python 3",
   "language": "python",
   "name": "python3"
  },
  "language_info": {
   "codemirror_mode": {
    "name": "ipython",
    "version": 3
   },
   "file_extension": ".py",
   "mimetype": "text/x-python",
   "name": "python",
   "nbconvert_exporter": "python",
   "pygments_lexer": "ipython3",
   "version": "3.8.8"
  }
 },
 "nbformat": 4,
 "nbformat_minor": 5
}
