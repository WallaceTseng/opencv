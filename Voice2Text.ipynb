{
 "cells": [
  {
   "cell_type": "code",
   "execution_count": 87,
   "id": "1a77c9f0",
   "metadata": {},
   "outputs": [],
   "source": [
    "import speech_recognition  # pip3 install SpeechRecognition\n",
    "import pyaudio             # 1. conda config --add channels conda-forge\n",
    "                           # 2. conda install pyaudio\n",
    "import time\n",
    "import os\n",
    "\n",
    "#import wave              # 這是讀聲音檔的，可以不需要"
   ]
  },
  {
   "cell_type": "code",
   "execution_count": 88,
   "id": "d8e606ab",
   "metadata": {},
   "outputs": [],
   "source": [
    "def Voice2Text():\n",
    "    r = speech_recognition.Recognizer()\n",
    "    with speech_recognition.Microphone() as source: \n",
    "     ## https://blog.gtwang.org/programming/python-with-context-manager-tutorial/\n",
    "        print(\">> Say somthing to me\")\n",
    "        r.adjust_for_ambient_noise(source)\n",
    "        audio = r.listen(source)\n",
    "    try:\n",
    "        Text = r.recognize_google(audio, language=\"zh-TW\")     \n",
    "    except r.UnknowValueError:\n",
    "        Text = \"Unknown value\"\n",
    "    except r.RequestError as e:\n",
    "        Text = \"Request Error{0}\".format(e)\n",
    "\n",
    "    return Text"
   ]
  },
  {
   "cell_type": "code",
   "execution_count": 89,
   "id": "4f404bae",
   "metadata": {},
   "outputs": [
    {
     "name": "stdout",
     "output_type": "stream",
     "text": [
      ">> Say somthing to me\n",
      ">> Did you just say\n",
      "\n",
      "\"準備下班了明天見\"\n"
     ]
    }
   ],
   "source": [
    "Text = Voice2Text()\n",
    "print(\">> Did you just say\\n\\n\\\"{0}\\\"\".format(Text))"
   ]
  },
  {
   "cell_type": "code",
   "execution_count": null,
   "id": "d00d7006",
   "metadata": {},
   "outputs": [],
   "source": []
  }
 ],
 "metadata": {
  "kernelspec": {
   "display_name": "Python 3",
   "language": "python",
   "name": "python3"
  }
 },
 "nbformat": 4,
 "nbformat_minor": 5
}
