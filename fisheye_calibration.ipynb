{
 "cells": [
  {
   "cell_type": "code",
<<<<<<< HEAD
   "execution_count": 12,
=======
   "execution_count": 33,
>>>>>>> 60d317f1f20192c0936634a2df8b25b95c8b9825
   "metadata": {
    "scrolled": true
   },
   "outputs": [
    {
     "name": "stdout",
     "output_type": "stream",
     "text": [
      "OpenCv version: {} 4.5.3\n"
     ]
    }
   ],
   "source": [
    "import cv2\n",
<<<<<<< HEAD
    "import numpy as np\n",
    "import glob\n",
    "\n",
=======
    "import urllib\n",
    "import numpy as np\n",
    "import os\n",
    "import glob\n",
    "\n",
    "from urllib.request import urlopen\n",
    "\n",
>>>>>>> 60d317f1f20192c0936634a2df8b25b95c8b9825
    "#check version\n",
    "print(\"OpenCv version: {}\", cv2.__version__)"
   ]
  },
  {
   "cell_type": "code",
<<<<<<< HEAD
   "execution_count": 13,
   "metadata": {},
   "outputs": [],
   "source": [
    "# Set file for calibration\n",
    "# img_raw: Multiple image files for calibrationm, therefore a \"*\" is applied\n",
    "# img_target: The image which the calibration results will be applied\n",
    "img_raw = './image/cal_00/checker_*.jpg'\n",
    "img_target = './image/stitching/cam0.jpg'\n",
    "#img_raw = './image/checker_*.jpg'\n",
    "#img_target = './image/checker_00.jpg'"
   ]
  },
  {
   "cell_type": "code",
   "execution_count": 14,
   "metadata": {},
   "outputs": [],
   "source": [
    "# Set checker board parameters. A standard opencv 7*10 checker has 6*9 corners\n",
    "CHECKERBOARD = (6,9)\n",
    "\n",
    "#Image out factor\n",
    "fx_resize = 0.3\n",
    "fy_resize = 0.3\n",
    "oc_radius = 20\n",
    "oc_color = (0, 100, 255)"
   ]
  },
  {
   "cell_type": "code",
   "execution_count": 15,
   "metadata": {},
   "outputs": [],
   "source": [
    "# Create arrays and config flags for calibration\n",
    "_img_shape = None\n",
    "\n",
    "subpix_criteria = (cv2.TERM_CRITERIA_EPS+cv2.TERM_CRITERIA_MAX_ITER, 30, 0.1)\n",
    "calibration_flags = cv2.fisheye.CALIB_RECOMPUTE_EXTRINSIC + cv2.fisheye.CALIB_CHECK_COND + cv2.fisheye.CALIB_FIX_SKEW\n",
    "\n",
    "objp = np.zeros((1, CHECKERBOARD[0]*CHECKERBOARD[1], 3), np.float32)\n",
    "objp[0,:,:2] = np.mgrid[0:CHECKERBOARD[0], 0:CHECKERBOARD[1]].T.reshape(-1, 2)\n",
    "\n",
=======
   "execution_count": 34,
   "metadata": {},
   "outputs": [],
   "source": [
    "CHECKERBOARD = (6,9)\n",
    "subpix_criteria = (cv2.TERM_CRITERIA_EPS+cv2.TERM_CRITERIA_MAX_ITER, 30, 0.1)\n",
    "calibration_flags = cv2.fisheye.CALIB_RECOMPUTE_EXTRINSIC+cv2.fisheye.CALIB_CHECK_COND+cv2.fisheye.CALIB_FIX_SKEW\n",
    "objp = np.zeros((1, CHECKERBOARD[0]*CHECKERBOARD[1], 3), np.float32)\n",
    "objp[0,:,:2] = np.mgrid[0:CHECKERBOARD[0], 0:CHECKERBOARD[1]].T.reshape(-1, 2)\n",
    "_img_shape = None\n",
>>>>>>> 60d317f1f20192c0936634a2df8b25b95c8b9825
    "objpoints = [] # 3d point in real world space\n",
    "imgpoints = [] # 2d points in image plane."
   ]
  },
  {
   "cell_type": "code",
<<<<<<< HEAD
   "execution_count": 16,
=======
   "execution_count": 35,
>>>>>>> 60d317f1f20192c0936634a2df8b25b95c8b9825
   "metadata": {},
   "outputs": [
    {
     "name": "stdout",
     "output_type": "stream",
     "text": [
<<<<<<< HEAD
      "Found 15 valid images for calibration\n"
=======
      "Found 8 valid images for calibration\n",
      "DIM=(2592, 1944)\n",
      "K=np.array([[1238.8973384191427, 0.0, 1296.7584921501195], [0.0, 1239.1028827686082, 976.3825196094416], [0.0, 0.0, 1.0]])\n",
      "D=np.array([[-0.1307433594261936], [0.04581714762639465], [-0.13650221908717208], [0.09875685944472529]])\n"
>>>>>>> 60d317f1f20192c0936634a2df8b25b95c8b9825
     ]
    }
   ],
   "source": [
<<<<<<< HEAD
    "# Read image files, convert to gray level, and find corners in images\n",
    "images = glob.glob(img_raw)\n",
=======
    "images = glob.glob('./image/checker_*.jpg')\n",
>>>>>>> 60d317f1f20192c0936634a2df8b25b95c8b9825
    "for fname in images:\n",
    "    img = cv2.imread(fname)\n",
    "    if _img_shape == None:\n",
    "        _img_shape = img.shape[:2]\n",
    "    else:\n",
    "        assert _img_shape == img.shape[:2], \"All images must share the same size.\"\n",
    "    gray = cv2.cvtColor(img,cv2.COLOR_BGR2GRAY)\n",
    "    # Find the chess board corners\n",
    "    ret, corners = cv2.findChessboardCorners(gray, CHECKERBOARD, cv2.CALIB_CB_ADAPTIVE_THRESH+cv2.CALIB_CB_FAST_CHECK+cv2.CALIB_CB_NORMALIZE_IMAGE)\n",
    "    # If found, add object points, image points (after refining them)\n",
    "    if ret == True:\n",
    "        objpoints.append(objp)\n",
    "        cv2.cornerSubPix(gray,corners,(3,3),(-1,-1),subpix_criteria)\n",
    "        imgpoints.append(corners)\n",
<<<<<<< HEAD
    "        \n",
    "N_OK = len(objpoints)\n",
    "print(\"Found \" + str(N_OK) + \" valid images for calibration\")"
   ]
  },
  {
   "cell_type": "code",
   "execution_count": 17,
   "metadata": {},
   "outputs": [
    {
     "name": "stdout",
     "output_type": "stream",
     "text": [
      "DIM=(2592, 1944)\n",
      "K=np.array([[1252.7018380862626, 0.0, 1296.953693820268], [0.0, 1251.531908632969, 973.684155066951], [0.0, 0.0, 1.0]])\n",
      "D=np.array([[-0.12245575861033121], [-0.02780911219479781], [0.021333322783106647], [-0.00539600894408292]])\n",
      "OC=(1296.953693820268, 973.684155066951)\n"
     ]
    }
   ],
   "source": [
    "# Find K and D matrix\n",
=======
    "N_OK = len(objpoints)\n",
>>>>>>> 60d317f1f20192c0936634a2df8b25b95c8b9825
    "K = np.zeros((3, 3))\n",
    "D = np.zeros((4, 1))\n",
    "rvecs = [np.zeros((1, 1, 3), dtype=np.float64) for i in range(N_OK)]\n",
    "tvecs = [np.zeros((1, 1, 3), dtype=np.float64) for i in range(N_OK)]\n",
    "rms, _, _, _, _ = \\\n",
<<<<<<< HEAD
    "cv2.fisheye.calibrate(\n",
=======
    "    cv2.fisheye.calibrate(\n",
>>>>>>> 60d317f1f20192c0936634a2df8b25b95c8b9825
    "        objpoints,\n",
    "        imgpoints,\n",
    "        gray.shape[::-1],\n",
    "        K,\n",
    "        D,\n",
    "        rvecs,\n",
    "        tvecs,\n",
    "        calibration_flags,\n",
    "        (cv2.TERM_CRITERIA_EPS+cv2.TERM_CRITERIA_MAX_ITER, 30, 1e-6)\n",
    "    )\n",
<<<<<<< HEAD
    "\n",
    "cx = K[0,2]\n",
    "cy = K[1,2]\n",
    "\n",
    "print(\"DIM=\" + str(_img_shape[::-1]))\n",
    "print(\"K=np.array(\" + str(K.tolist()) + \")\")\n",
    "print(\"D=np.array(\" + str(D.tolist()) + \")\")\n",
    "print(\"OC=(\" + str(cx) + \", \" + str(cy) + \")\")"
=======
    "print(\"Found \" + str(N_OK) + \" valid images for calibration\")\n",
    "print(\"DIM=\" + str(_img_shape[::-1]))\n",
    "print(\"K=np.array(\" + str(K.tolist()) + \")\")\n",
    "print(\"D=np.array(\" + str(D.tolist()) + \")\")"
>>>>>>> 60d317f1f20192c0936634a2df8b25b95c8b9825
   ]
  },
  {
   "cell_type": "code",
<<<<<<< HEAD
   "execution_count": 18,
   "metadata": {},
   "outputs": [],
   "source": [
    "DIM=(_img_shape[1], _img_shape[0])\n",
    "\n",
    "#Apply opencv fisheye undistort\n",
    "img = cv2.imread(img_target)\n",
    "h,w = img.shape[:2]\n",
    "map1, map2 = cv2.fisheye.initUndistortRectifyMap(K, D, np.eye(3), K, DIM, cv2.CV_16SC2)\n",
    "undistorted_img = cv2.remap(img, map1, map2, interpolation=cv2.INTER_LINEAR, borderMode=cv2.BORDER_CONSTANT)\n",
    "\n",
    "#print(img.shape)\n",
    "#print(undistorted_img.shape)"
   ]
  },
  {
   "cell_type": "code",
   "execution_count": 19,
   "metadata": {},
   "outputs": [
    {
     "data": {
      "text/plain": [
       "True"
      ]
     },
     "execution_count": 19,
     "metadata": {},
     "output_type": "execute_result"
    }
   ],
   "source": [
    "# Write undistored image to file\n",
    "cv2.imwrite(\"fisheye_unwarp_result_00.png\", undistorted_img)"
   ]
  },
  {
   "cell_type": "code",
   "execution_count": 20,
   "metadata": {},
   "outputs": [],
   "source": [
    "#Draw optical center\n",
    "img=cv2.circle(img, (int(K[0,2]), int(K[1,2])), oc_radius, oc_color, -1)"
=======
   "execution_count": 46,
   "metadata": {},
   "outputs": [
    {
     "name": "stdout",
     "output_type": "stream",
     "text": [
      "(1944, 2592, 3)\n",
      "(1944, 2592, 3)\n"
     ]
    }
   ],
   "source": [
    "# You should replace these 3 lines with the output in calibration step\n",
    "DIM=(2592, 1944)\n",
    "K=np.array([[1238.8973384191427, 0.0, 1296.7584921501195], [0.0, 1239.1028827686082, 976.3825196094416], [0.0, 0.0, 1.0]])\n",
    "D=np.array([[-0.1307433594261936], [0.04581714762639465], [-0.13650221908717208], [0.09875685944472529]])\n",
    "#def undistort():\n",
    "img = cv2.imread('./image/checker_00.jpg')\n",
    "h,w = img.shape[:2]\n",
    "map1, map2 = cv2.fisheye.initUndistortRectifyMap(K, D, np.eye(3), K, DIM, cv2.CV_16SC2)\n",
    "undistorted_img = cv2.remap(img, map1, map2, interpolation=cv2.INTER_LINEAR, borderMode=cv2.BORDER_CONSTANT)\n",
    "\n",
    "print(img.shape)\n",
    "print(undistorted_img.shape)\n",
    "\n",
    "img = cv2.resize(img, (512, 512), interpolation=cv2.INTER_AREA)\n",
    "undistorted_img = cv2.resize(undistorted_img, (512, 512), interpolation=cv2.INTER_AREA)\n",
    "\n",
    "cv2.imshow(\"original\", img)\n",
    "cv2.imshow(\"undistorted\", undistorted_img)\n",
    "cv2.waitKey(0)\n",
    "cv2.destroyAllWindows()"
>>>>>>> 60d317f1f20192c0936634a2df8b25b95c8b9825
   ]
  },
  {
   "cell_type": "code",
<<<<<<< HEAD
   "execution_count": 21,
   "metadata": {},
   "outputs": [],
   "source": [
    "# Display original image and result\n",
    "img = cv2.resize(img, None, fx=fx_resize, fy=fy_resize, interpolation=cv2.INTER_AREA)\n",
    "undistorted_img = cv2.resize(undistorted_img, None, fx=fx_resize, fy=fy_resize, interpolation=cv2.INTER_AREA)\n",
    "cv2.imshow(\"original\", img)\n",
    "cv2.imshow(\"undistorted\", undistorted_img)"
=======
   "execution_count": 45,
   "metadata": {},
   "outputs": [],
   "source": [
    "#undistort()"
>>>>>>> 60d317f1f20192c0936634a2df8b25b95c8b9825
   ]
  },
  {
   "cell_type": "code",
<<<<<<< HEAD
   "execution_count": 22,
   "metadata": {},
   "outputs": [],
   "source": [
    "cv2.waitKey(0)\n",
    "cv2.destroyAllWindows()"
   ]
=======
   "execution_count": 15,
   "metadata": {},
   "outputs": [],
   "source": []
>>>>>>> 60d317f1f20192c0936634a2df8b25b95c8b9825
  },
  {
   "cell_type": "code",
   "execution_count": null,
   "metadata": {},
   "outputs": [],
   "source": []
  },
  {
   "cell_type": "code",
   "execution_count": null,
   "metadata": {},
   "outputs": [],
   "source": []
  }
 ],
 "metadata": {
  "kernelspec": {
   "display_name": "Python 3",
   "language": "python",
   "name": "python3"
  },
  "language_info": {
   "codemirror_mode": {
    "name": "ipython",
    "version": 3
   },
   "file_extension": ".py",
   "mimetype": "text/x-python",
   "name": "python",
   "nbconvert_exporter": "python",
   "pygments_lexer": "ipython3",
   "version": "3.7.0"
  }
 },
 "nbformat": 4,
 "nbformat_minor": 2
}
