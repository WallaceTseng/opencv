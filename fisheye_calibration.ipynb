{
 "cells": [
  {
   "cell_type": "code",
   "execution_count": 35,
   "metadata": {
    "scrolled": true
   },
   "outputs": [
    {
     "name": "stdout",
     "output_type": "stream",
     "text": [
      "OpenCv version: {} 4.5.3\n"
     ]
    }
   ],
   "source": [
    "import cv2\n",
    "import numpy as np\n",
    "import glob\n",
    "\n",
    "#check version\n",
    "print(\"OpenCv version: {}\", cv2.__version__)"
   ]
  },
  {
   "cell_type": "code",
   "execution_count": 36,
   "metadata": {},
   "outputs": [],
   "source": [
    "# Set file for calibration\n",
    "# img_raw: Multiple image files for calibrationm, therefore a \"*\" is applied\n",
    "# img_target: The image which the calibration results will be applied\n",
    "img_raw = './image/checker_*.jpg'\n",
    "img_target = './image/cam3.jpg'\n",
    "result_path = './image/cam3_undistored.jpg'\n",
    "#img_raw = './image/checker_*.jpg'\n",
    "#img_target = './image/checker_00.jpg'"
   ]
  },
  {
   "cell_type": "code",
   "execution_count": 37,
   "metadata": {},
   "outputs": [],
   "source": [
    "# Set checker board parameters. A standard opencv 7*10 checker has 6*9 corners\n",
    "CHECKERBOARD = (6,9)\n",
    "\n",
    "#Image out factor\n",
    "fx_resize = 0.3\n",
    "fy_resize = 0.3\n",
    "\n",
    "#OC indicator parameters\n",
    "oc_radius = 10\n",
    "oc_color = (0, 240, 240)\n",
    "bg_color = (80, 80, 80)\n",
    "text_color = (0, 240, 240)\n",
    "bg_x = 20\n",
    "bg_y = 0\n",
    "bg_w = 600\n",
    "bg_h = 90\n",
    "text_x = 20\n",
    "text_y = 20\n",
    "text_size = 2\n",
    "text_line_w = 3"
   ]
  },
  {
   "cell_type": "code",
   "execution_count": 38,
   "metadata": {},
   "outputs": [],
   "source": [
    "# Create arrays and config flags for calibration\n",
    "_img_shape = None\n",
    "\n",
    "subpix_criteria = (cv2.TERM_CRITERIA_EPS+cv2.TERM_CRITERIA_MAX_ITER, 30, 0.1)\n",
    "calibration_flags = cv2.fisheye.CALIB_RECOMPUTE_EXTRINSIC + cv2.fisheye.CALIB_CHECK_COND + cv2.fisheye.CALIB_FIX_SKEW\n",
    "\n",
    "objp = np.zeros((1, CHECKERBOARD[0]*CHECKERBOARD[1], 3), np.float32)\n",
    "objp[0,:,:2] = np.mgrid[0:CHECKERBOARD[0], 0:CHECKERBOARD[1]].T.reshape(-1, 2)\n",
    "\n",
    "objpoints = [] # 3d point in real world space\n",
    "imgpoints = [] # 2d points in image plane."
   ]
  },
  {
   "cell_type": "code",
   "execution_count": 39,
   "metadata": {},
   "outputs": [
    {
     "name": "stdout",
     "output_type": "stream",
     "text": [
      "Found 8 valid images for calibration\n"
     ]
    }
   ],
   "source": [
    "# Read image files, convert to gray level, and find corners in images\n",
    "images = glob.glob(img_raw)\n",
    "for fname in images:\n",
    "    img = cv2.imread(fname)\n",
    "    if _img_shape == None:\n",
    "        _img_shape = img.shape[:2]\n",
    "    else:\n",
    "        assert _img_shape == img.shape[:2], \"All images must share the same size.\"\n",
    "    gray = cv2.cvtColor(img,cv2.COLOR_BGR2GRAY)\n",
    "    # Find the chess board corners\n",
    "    ret, corners = cv2.findChessboardCorners(gray, CHECKERBOARD, cv2.CALIB_CB_ADAPTIVE_THRESH+cv2.CALIB_CB_FAST_CHECK+cv2.CALIB_CB_NORMALIZE_IMAGE)\n",
    "    # If found, add object points, image points (after refining them)\n",
    "    if ret == True:\n",
    "        objpoints.append(objp)\n",
    "        cv2.cornerSubPix(gray,corners,(3,3),(-1,-1),subpix_criteria)\n",
    "        imgpoints.append(corners)\n",
    "        \n",
    "N_OK = len(objpoints)\n",
    "print(\"Found \" + str(N_OK) + \" valid images for calibration\")"
   ]
  },
  {
   "cell_type": "code",
   "execution_count": 40,
   "metadata": {},
   "outputs": [
    {
     "name": "stdout",
     "output_type": "stream",
     "text": [
      "DIM=(2592, 1944)\n",
      "K=np.array([[1238.8973384191427, 0.0, 1296.7584921501195], [0.0, 1239.1028827686082, 976.3825196094416], [0.0, 0.0, 1.0]])\n",
      "D=np.array([[-0.1307433594261936], [0.04581714762639465], [-0.13650221908717208], [0.09875685944472529]])\n",
      "OC=(1296.7584921501195, 976.3825196094416)\n"
     ]
    }
   ],
   "source": [
    "# Find K and D matrix\n",
    "K = np.zeros((3, 3))\n",
    "D = np.zeros((4, 1))\n",
    "rvecs = [np.zeros((1, 1, 3), dtype=np.float64) for i in range(N_OK)]\n",
    "tvecs = [np.zeros((1, 1, 3), dtype=np.float64) for i in range(N_OK)]\n",
    "rms, _, _, _, _ = \\\n",
    "cv2.fisheye.calibrate(\n",
    "        objpoints,\n",
    "        imgpoints,\n",
    "        gray.shape[::-1],\n",
    "        K,\n",
    "        D,\n",
    "        rvecs,\n",
    "        tvecs,\n",
    "        calibration_flags,\n",
    "        (cv2.TERM_CRITERIA_EPS+cv2.TERM_CRITERIA_MAX_ITER, 30, 1e-6)\n",
    "    )\n",
    "\n",
    "print(\"DIM=\" + str(_img_shape[::-1]))\n",
    "print(\"K=np.array(\" + str(K.tolist()) + \")\")\n",
    "print(\"D=np.array(\" + str(D.tolist()) + \")\")\n",
    "print(\"OC=(\" + str(K[0,2]) + \", \" + str(K[1,2]) + \")\")"
   ]
  },
  {
   "cell_type": "code",
   "execution_count": 41,
   "metadata": {},
   "outputs": [],
   "source": [
    "DIM=(_img_shape[1], _img_shape[0])\n",
    "\n",
    "#To display full image without cropping\n",
    "# Method 1\n",
    "#nk = K.copy()\n",
    "#nk[0,0]=K[0,0]/2\n",
    "#nk[1,1]=K[1,1]/2\n",
    "#Method 2\n",
    "new_K = cv2.fisheye.estimateNewCameraMatrixForUndistortRectify(K, D, DIM, np.eye(3), balance=1)\n",
    "\n",
    "#Apply opencv fisheye undistort\n",
    "img = cv2.imread(img_target)\n",
    "h,w = img.shape[:2]\n",
    "map1, map2 = cv2.fisheye.initUndistortRectifyMap(K, D, np.eye(3), new_K, DIM, cv2.CV_16SC2)\n",
    "undistorted_img = cv2.remap(img, map1, map2, interpolation=cv2.INTER_LINEAR, borderMode=cv2.BORDER_CONSTANT)\n",
    "\n",
    "#print(img.shape)\n",
    "#print(undistorted_img.shape)"
   ]
  },
  {
   "cell_type": "code",
   "execution_count": 42,
   "metadata": {},
   "outputs": [
    {
     "data": {
      "text/plain": [
       "True"
      ]
     },
     "execution_count": 42,
     "metadata": {},
     "output_type": "execute_result"
    }
   ],
   "source": [
    "# Write undistored image to file\n",
    "#cv2.imwrite(\"fisheye_unwarp_result_00.png\", undistorted_img)\n",
    "cv2.imwrite(result_path, undistorted_img)"
   ]
  },
  {
   "cell_type": "code",
   "execution_count": 43,
   "metadata": {},
   "outputs": [],
   "source": [
    "#Draw optical center background and text\n",
    "cx = int(K[0,2])\n",
    "cy = int(K[1,2])\n",
    "text = \"(\" + \"{:04.2f}\".format(K[0,2]) + \", \" + \"{:04.2f}\".format(K[1,2]) + \")\"\n",
    "\n",
    "img=cv2.circle(img, (cx, cy), oc_radius, oc_color, -1)\n",
    "img=cv2.rectangle(img, (cx+bg_x, cy+bg_y), (cx+bg_w, cy-bg_h), bg_color, -1)\n",
    "img=cv2.putText(img, text, (cx+text_x, cy-text_y), cv2.FONT_HERSHEY_SIMPLEX, text_size, text_color, text_line_w, cv2.LINE_AA)"
   ]
  },
  {
   "cell_type": "code",
   "execution_count": 44,
   "metadata": {
    "scrolled": true
   },
   "outputs": [],
   "source": [
    "# Display original image and result\n",
    "img = cv2.resize(img, None, fx=fx_resize, fy=fy_resize, interpolation=cv2.INTER_AREA)\n",
    "undistorted_img = cv2.resize(undistorted_img, None, fx=fx_resize, fy=fy_resize, interpolation=cv2.INTER_AREA)\n",
    "cv2.imshow(\"original\", img)\n",
    "cv2.imshow(\"undistorted\", undistorted_img)"
   ]
  },
  {
   "cell_type": "code",
   "execution_count": 45,
   "metadata": {},
   "outputs": [],
   "source": [
    "cv2.waitKey(0)\n",
    "cv2.destroyAllWindows()"
   ]
  },
  {
   "cell_type": "code",
   "execution_count": null,
   "metadata": {},
   "outputs": [],
   "source": []
  },
  {
   "cell_type": "code",
   "execution_count": null,
   "metadata": {},
   "outputs": [],
   "source": []
  }
 ],
 "metadata": {
  "kernelspec": {
   "display_name": "Python 3",
   "language": "python",
   "name": "python3"
  },
  "language_info": {
   "codemirror_mode": {
    "name": "ipython",
    "version": 3
   },
   "file_extension": ".py",
   "mimetype": "text/x-python",
   "name": "python",
   "nbconvert_exporter": "python",
   "pygments_lexer": "ipython3",
   "version": "3.8.8"
  }
 },
 "nbformat": 4,
 "nbformat_minor": 2
}
