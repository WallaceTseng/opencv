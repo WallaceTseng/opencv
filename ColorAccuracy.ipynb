{
 "cells": [
  {
   "cell_type": "code",
   "execution_count": 1,
   "id": "584fb9a7",
   "metadata": {},
   "outputs": [],
   "source": [
    "import cv2\n",
    "import numpy as np"
   ]
  },
  {
   "cell_type": "code",
   "execution_count": 2,
   "id": "3f291ec4",
   "metadata": {},
   "outputs": [],
   "source": [
    "# Parameters for binarize threshold and Canny Line detection\n",
    "bi_thd = 20\n",
    "bi_max = 255\n",
    "\n",
    "#Parameters for canny\n",
    "canny_thrd1=10\n",
    "canny_thrd2=120\n",
    "\n",
    "#Parameters for visualization\n",
    "nor_color = (255, 255, 255)\n",
    "warn_color = (0,0,255)\n",
    "font = cv2.FONT_HERSHEY_SIMPLEX\n",
    "color = (0, 255, 255)\n",
    "\n",
    "minContourSize = 200"
   ]
  },
  {
   "cell_type": "code",
   "execution_count": 3,
   "id": "21b333a4",
   "metadata": {},
   "outputs": [],
   "source": [
    "def displayResizedImg(name, img, factor):\n",
    "    imgDis = cv2.resize(img, None, fx=factor, fy=factor, interpolation=cv2.INTER_AREA)\n",
    "    cv2.imshow(name, imgDis)\n",
    "    return imgDis"
   ]
  },
  {
   "cell_type": "code",
   "execution_count": 4,
   "id": "666e7851",
   "metadata": {},
   "outputs": [],
   "source": [
    "def joinContours(src, contours):\n",
    "    # create an empty mask\n",
    "    mask = np.zeros(src.shape[:2],dtype=np.uint8)\n",
    "    # draw filled boundingrects if the contour is large enough\n",
    "    for c in contours:\n",
    "            if cv2.contourArea(c) > minContourSize:\n",
    "                    x,y,w,h  = cv2.boundingRect(c)\n",
    "                    cv2.rectangle(mask,(x,y),(x+w,y+h),(255),-1)\n",
    "\n",
    "    # find the contours on the mask (with solid drawn shapes) and draw outline on input image\n",
    "    contours,hierarchy=cv2.findContours(mask,cv2.RETR_EXTERNAL,cv2.CHAIN_APPROX_SIMPLE)\n",
    "    return contours\n",
    "    #for c in contours:\n",
    "    #                cv2.drawContours(res,[c],0,(0,0,255),2)\n",
    "    ## show image\n",
    "    #cv2.imshow(\"Contour\",res)\n"
   ]
  },
  {
   "cell_type": "code",
   "execution_count": 5,
   "id": "f9d3767e",
   "metadata": {},
   "outputs": [],
   "source": [
    "def get_contour_precedence(contour, cols):\n",
    "    tolerance_factor = 10\n",
    "    origin = cv2.boundingRect(contour)\n",
    "    return ((origin[1] // tolerance_factor) * tolerance_factor) * cols + origin[0]"
   ]
  },
  {
   "cell_type": "code",
   "execution_count": 6,
   "id": "f7f53a76",
   "metadata": {},
   "outputs": [],
   "source": [
    "def scale_contour(cnt, scale):\n",
    "    M = cv2.moments(cnt)\n",
    "    cx = int(M['m10']/M['m00'])\n",
    "    cy = int(M['m01']/M['m00'])\n",
    "\n",
    "    cnt_norm = cnt - [cx, cy]\n",
    "    cnt_scaled = cnt_norm * scale\n",
    "    cnt_scaled = cnt_scaled + [cx, cy]\n",
    "    cnt_scaled = cnt_scaled.astype(np.int32)\n",
    "\n",
    "    return cnt_scaled"
   ]
  },
  {
   "cell_type": "code",
   "execution_count": 7,
   "id": "2a054ccb",
   "metadata": {},
   "outputs": [],
   "source": [
    "#read from file\n",
    "#imRgb = cv2.imread(\"D:/Research/opencv/image/X-Rite-Color-Checker-CC-Classic-array-with-CIELab-values.png\")\n",
    "imRgb = cv2.imread(\"D:/Research/opencv/image/colorchecker.jpg\")\n",
    "\n",
    "imGray = cv2.cvtColor(imRgb, cv2.COLOR_BGR2GRAY)\n",
    "imLab = cv2.cvtColor(imRgb, cv2.COLOR_BGR2LAB)\n",
    "L = imLab[:, :, 0]\n",
    "a = imLab[:, :, 1]\n",
    "b = imLab[:, :, 2]"
   ]
  },
  {
   "cell_type": "code",
   "execution_count": 8,
   "id": "6995d529",
   "metadata": {},
   "outputs": [
    {
     "name": "stdout",
     "output_type": "stream",
     "text": [
      "0 8 30 74 74\n",
      "1 90 30 74 74\n",
      "2 172 30 75 74\n",
      "3 255 30 74 74\n",
      "4 337 30 74 74\n",
      "5 419 30 74 74\n",
      "6 8 112 74 74\n",
      "7 90 112 74 74\n",
      "8 172 112 75 74\n",
      "9 254 112 75 74\n",
      "10 337 112 74 74\n",
      "11 419 112 74 74\n",
      "12 8 194 74 74\n",
      "13 90 194 74 74\n",
      "14 172 194 75 74\n",
      "15 254 194 75 74\n",
      "16 337 194 74 74\n",
      "17 419 194 74 74\n",
      "18 8 276 74 74\n",
      "19 90 276 74 74\n",
      "20 172 276 75 74\n",
      "21 254 276 75 74\n",
      "22 337 276 74 74\n",
      "23 417 275 78 77\n"
     ]
    }
   ],
   "source": [
    "#detect ROI\n",
    "\n",
    "#find gradient\n",
    "imgTemp = cv2.blur(imGray, (3,3))\n",
    "canny = cv2.Canny(imgTemp, canny_thrd1, canny_thrd2)\n",
    "\n",
    "contours, hierarchy = cv2.findContours(canny,cv2.RETR_TREE,cv2.CHAIN_APPROX_SIMPLE)\n",
    "contours = joinContours(imRgb, contours)\n",
    "#sort\n",
    "contours.sort(key=lambda x:get_contour_precedence(x, imRgb.shape[1]))\n",
    "\n",
    "cnt_scaled = [np.array([[[10,10]], [[10,50]], [[50,50]], [[50,10]]])]\n",
    "#cnt_scaled = [np.array(contours)]\n",
    "for c in contours:\n",
    "    np.append(cnt_scaled, np.array([[[0,0]], [[0,50]], [[50,50]], [[50,0]]]))\n",
    "    #np.append(cnt_scaled, scale_contour(c, 0.5))\n",
    "\n",
    "#print(cnt_scaled)\n",
    "\n",
    "cv2.drawContours(imRgb, cnt_scaled, -1, color, 3)\n",
    "i=0\n",
    "for c in contours:\n",
    "    x, y, w, h = cv2.boundingRect(c)\n",
    "    print(i,x,y,w,h)\n",
    "    cv2.putText(imRgb,'{}'.format(i), (x, y), font, 1, nor_color, 1, cv2.LINE_AA)\n",
    "    i+=1\n",
    "    \n"
   ]
  },
  {
   "cell_type": "code",
   "execution_count": null,
   "id": "a3a65bc4",
   "metadata": {},
   "outputs": [],
   "source": []
  },
  {
   "cell_type": "code",
   "execution_count": null,
   "id": "506c4def",
   "metadata": {},
   "outputs": [],
   "source": []
  },
  {
   "cell_type": "code",
   "execution_count": 9,
   "id": "64ab00a1",
   "metadata": {},
   "outputs": [],
   "source": [
    "displayResizedImg('ori', imRgb,1)\n",
    "#displayResizedImg('L',L,0.5)\n",
    "#displayResizedImg('a',a,0.5)\n",
    "#displayResizedImg('b',b,0.5)\n",
    "cv2.waitKey()\n",
    "cv2.destroyAllWindows()"
   ]
  },
  {
   "cell_type": "code",
   "execution_count": null,
   "id": "87ad67a4",
   "metadata": {},
   "outputs": [],
   "source": []
  },
  {
   "cell_type": "code",
   "execution_count": null,
   "id": "5e499942",
   "metadata": {},
   "outputs": [],
   "source": []
  }
 ],
 "metadata": {
  "kernelspec": {
   "display_name": "Python 3",
   "language": "python",
   "name": "python3"
  },
  "language_info": {
   "codemirror_mode": {
    "name": "ipython",
    "version": 3
   },
   "file_extension": ".py",
   "mimetype": "text/x-python",
   "name": "python",
   "nbconvert_exporter": "python",
   "pygments_lexer": "ipython3",
   "version": "3.8.8"
  }
 },
 "nbformat": 4,
 "nbformat_minor": 5
}
