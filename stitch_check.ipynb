{
 "cells": [
  {
   "cell_type": "code",
   "execution_count": 1,
   "metadata": {
    "scrolled": false
   },
   "outputs": [
    {
     "name": "stdout",
     "output_type": "stream",
     "text": [
      "OpenCv version:  4.5.3\n"
     ]
    }
   ],
   "source": [
    "import cv2\n",
    "import urllib\n",
    "import numpy as np\n",
    "from random import randrange, uniform\n",
    "\n",
    "from sklearn import cluster, datasets\n",
    "\n",
    "#check version\n",
    "print(\"OpenCv version: \", cv2.__version__)"
   ]
  },
  {
   "cell_type": "code",
   "execution_count": 2,
   "metadata": {},
   "outputs": [],
   "source": [
    "LINE_WIDTH_SPEC = 3\n",
    "\n",
    "# Parameters for Hough line detection\n",
    "rho = 1.0\n",
    "theta = np.pi/180\n",
    "threshold = 20\n",
    "min_line_length = 10\n",
    "max_line_gap = 100\n",
    "\n",
    "# Parameters for binarize threshold and Canny Line detection\n",
    "bi_thd = 30\n",
    "bi_max = 255\n",
    "\n",
    "#img_path = \"D:/Research/opencv/image/dora/b.jpg\"\n",
    "img_path = \"D:/Research/opencv/image/dora/stitch_test.jpg\"\n",
    "#img_path = \"D:/Research/opencv/image/adas/traffic.jpg\"\n",
    "\n",
    "nor_color = (0, 255, 255)\n",
    "warn_color = (0,0,255)\n",
    "font = cv2.FONT_HERSHEY_SIMPLEX\n",
    "color = (0, 255, 255)"
   ]
  },
  {
   "cell_type": "code",
   "execution_count": 3,
   "metadata": {},
   "outputs": [],
   "source": [
    "def displayResizedImg(name, img, factor):\n",
    "    imgDis = cv2.resize(img, None, fx=factor, fy=factor, interpolation=cv2.INTER_AREA)\n",
    "    cv2.imshow(name, imgDis)\n",
    "    return imgDis"
   ]
  },
  {
   "cell_type": "code",
   "execution_count": 4,
   "metadata": {},
   "outputs": [],
   "source": [
    "def findLimitValue(arr):\n",
    "    #print(\"min: {} max: {}\".format(min(arr), max(arr)))\n",
    "    return [min(arr), max(arr), max(arr)-min(arr)]"
   ]
  },
  {
   "cell_type": "code",
   "execution_count": 5,
   "metadata": {},
   "outputs": [],
   "source": [
    "def detectlineWidth(lines, groups):\n",
    "    data = np.array(lines)\n",
    "    kmeans_fit = cluster.KMeans(n_clusters=groups).fit(data.reshape(-1,1))\n",
    "    cluster_labels = kmeans_fit.labels_\n",
    "    \n",
    "    temp = [[0 for x in range(2)] for x in range(len(cluster_labels))]\n",
    "    temp = np.array(temp)\n",
    "    for i in range(len(cluster_labels)):\n",
    "        temp[i,0] = cluster_labels[i]\n",
    "        temp[i,1] = data[i]\n",
    "        \n",
    "    #Sort by y position\n",
    "    temp = sorted(temp,key=lambda temp : temp [1])\n",
    "    \n",
    "    idx = temp[0][0]\n",
    "    test = []\n",
    "    final_list = []\n",
    "    for i in range(len(temp)):\n",
    "        #print(\"Index {}, array value {} {}\".format(idx, temp[i][0], temp[i][1]))\n",
    "        if idx != temp[i][0]:\n",
    "            idx = temp[i][0]\n",
    "            final_list.append(findLimitValue(test))\n",
    "            test.clear()\n",
    "            test.append(temp[i][1])\n",
    "        else:\n",
    "            test.append(temp[i][1])\n",
    "    #final_list += findLimitValue(test)\n",
    "    final_list.append(findLimitValue(test))\n",
    "    \n",
    "    #slices a[start:end]\n",
    "    #direct access a[x][y]\n",
    "    \n",
    "    return final_list"
   ]
  },
  {
   "cell_type": "code",
   "execution_count": null,
   "metadata": {},
   "outputs": [],
   "source": []
  },
  {
   "cell_type": "code",
   "execution_count": 6,
   "metadata": {},
   "outputs": [],
   "source": [
    "#read from file\n",
    "img = cv2.imread(img_path)"
   ]
  },
  {
   "cell_type": "code",
   "execution_count": 7,
   "metadata": {},
   "outputs": [],
   "source": [
    "#Convert image to gray\n",
    "gray = cv2.cvtColor(img, cv2.COLOR_BGR2GRAY)"
   ]
  },
  {
   "cell_type": "code",
   "execution_count": 8,
   "metadata": {},
   "outputs": [],
   "source": [
    "#Select and Crop image\n",
    "showCrosshair = False\n",
    "fromCenter = False\n",
    "# Select ROI\n",
    "rect = cv2.selectROI(\"select roi\", gray, showCrosshair, fromCenter)\n",
    "x, y, w, h = rect\n",
    "\n",
    "# Crop image\n",
    "imgGrayCrop = gray[y : y+h, x:x+w]\n",
    "imCrop = img[y : y+h, x:x+w]"
   ]
  },
  {
   "cell_type": "code",
   "execution_count": 9,
   "metadata": {},
   "outputs": [],
   "source": [
    "#Detect line Canny\n",
    "#imCanny = cv2.blur(imgGrayCrop, (3,3))\n",
    "#edges = cv2.Canny(imCanny, 90.0, 180.0)"
   ]
  },
  {
   "cell_type": "code",
   "execution_count": 10,
   "metadata": {
    "scrolled": true
   },
   "outputs": [
    {
     "name": "stdout",
     "output_type": "stream",
     "text": [
      "10\n",
      "3.0\n",
      "3.0\n",
      "2.0\n",
      "2.0\n",
      "3.0\n",
      "3.0\n",
      "3.0\n",
      "3.0\n",
      "3.0\n",
      "4.0\n"
     ]
    }
   ],
   "source": [
    "# detect Gradient\n",
    "imgGrayCrop = cv2.blur(imgGrayCrop, (3,3))\n",
    "kernel = cv2.getStructuringElement(cv2.MORPH_RECT, (3,3))\n",
    "gradient = cv2.morphologyEx(imgGrayCrop, cv2.MORPH_GRADIENT, kernel, iterations=2)\n",
    "\n",
    "gradient = cv2.morphologyEx(gradient, cv2.MORPH_OPEN, kernel, iterations=2)\n",
    "gradient = cv2.erode(gradient, kernel, iterations = 1)\n",
    "ret, gradient = cv2.threshold(gradient, bi_thd, bi_max, cv2.THRESH_BINARY)\n",
    "gradient = cv2.erode(gradient, kernel, iterations = 1)\n",
    "\n",
    "gradient = displayResizedImg('Gradient after binarization*5', gradient, 5)\n",
    "\n",
    "# detect edges\n",
    "edges = cv2.Canny(gradient, bi_thd, 255.0)\n",
    "displayResizedImg('Edges', edges, 1)\n",
    "\n",
    "# draw countours \n",
    "contours, hierarchy = cv2.findContours(gradient, cv2.RETR_EXTERNAL, cv2.CHAIN_APPROX_NONE)\n",
    "imCropC = cv2.resize(imCrop, None, fx=5, fy=5, interpolation=cv2.INTER_AREA)\n",
    "imCropC = cv2.drawContours(imCropC.copy(),contours,-1,(0,255,255),3)\n",
    "displayResizedImg('Contour', imCropC, 1)\n",
    "print(len(contours))\n",
    "\n",
    "lines = cv2.HoughLinesP(edges,rho,theta,threshold,np.array([]),min_line_length, max_line_gap)\n",
    "imCropA = cv2.resize(imCrop, None, fx=5, fy=5, interpolation=cv2.INTER_AREA)\n",
    "displayResizedImg('hough', imCropA, 1)\n",
    "\n",
    "y_list = []\n",
    "\n",
    "if lines is not None:\n",
    "    for line in lines:\n",
    "            x1,y1,x2,y2 = line.reshape(4)\n",
    "            y_list.append(y1)\n",
    "            #cv2.line(imCropA, (x1,y1), (x2,y2), color, 1)\n",
    "            #cv2.putText(imCropA,'{}'.format(int(y1)), (x1, y1), font, 1, color, 1, cv2.LINE_AA)\n",
    "\n",
    "    #print(y_list)\n",
    "    #Group data\n",
    "    lines_result = detectlineWidth(np.array(y_list), len(contours))\n",
    "    #print(lines_result)\n",
    "    \n",
    "    w = imCropA.shape[1]\n",
    "    \n",
    "    # draw result on image\n",
    "    for result in lines_result:\n",
    "        #print(\"{} {} {}\".format(result[0], result[1], result[2]))\n",
    "        lw = float(result[2])/5\n",
    "        print(\"{}\".format(lw))\n",
    "        if lw > LINE_WIDTH_SPEC:\n",
    "            color = warn_color\n",
    "        else:\n",
    "            color = nor_color\n",
    "        cv2.line(imCropA, (0,result[0]), (w,result[0]), color, 1)\n",
    "        cv2.line(imCropA, (0,result[1]), (w,result[1]), color, 1)\n",
    "        cv2.line(imCropA, (100,result[0]), (100,result[1]), color, 1)\n",
    "        cv2.putText(imCropA,'{}'.format(lw), (110, int((result[1]+result[0])/2)), font, 1, color, 1, cv2.LINE_AA)\n",
    "        \n",
    "    "
   ]
  },
  {
   "cell_type": "code",
   "execution_count": 11,
   "metadata": {},
   "outputs": [],
   "source": [
    "#Show images\n",
    "cv2.imshow('result', imCropA)\n",
    "#cv2.imshow('edge', edges)\n",
    "\n",
    "#cv2.imshow('Original image', img)\n",
    "#displayResizedImg('ROI', imgGrayCrop, 5)\n"
   ]
  },
  {
   "cell_type": "code",
   "execution_count": 12,
   "metadata": {},
   "outputs": [],
   "source": [
    "#wait keydown and then close all windows\n",
    "cv2.waitKey()\n",
    "cv2.destroyAllWindows()"
   ]
  },
  {
   "cell_type": "code",
   "execution_count": null,
   "metadata": {},
   "outputs": [],
   "source": []
  },
  {
   "cell_type": "code",
   "execution_count": null,
   "metadata": {},
   "outputs": [],
   "source": []
  },
  {
   "cell_type": "code",
   "execution_count": null,
   "metadata": {},
   "outputs": [],
   "source": []
  },
  {
   "cell_type": "code",
   "execution_count": null,
   "metadata": {},
   "outputs": [],
   "source": []
  }
 ],
 "metadata": {
  "kernelspec": {
   "display_name": "Python 3",
   "language": "python",
   "name": "python3"
  },
  "language_info": {
   "codemirror_mode": {
    "name": "ipython",
    "version": 3
   },
   "file_extension": ".py",
   "mimetype": "text/x-python",
   "name": "python",
   "nbconvert_exporter": "python",
   "pygments_lexer": "ipython3",
   "version": "3.8.8"
  }
 },
 "nbformat": 4,
 "nbformat_minor": 2
}
